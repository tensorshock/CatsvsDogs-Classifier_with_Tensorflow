{
 "cells": [
  {
   "cell_type": "code",
   "execution_count": 2,
   "metadata": {},
   "outputs": [],
   "source": [
    "import numpy as np"
   ]
  },
  {
   "cell_type": "code",
   "execution_count": 3,
   "metadata": {},
   "outputs": [],
   "source": [
    "import matplotlib.pyplot as plt\n",
    "import cv2\n",
    "import os\n",
    "%matplotlib inline"
   ]
  },
  {
   "cell_type": "code",
   "execution_count": 84,
   "metadata": {},
   "outputs": [],
   "source": [
    "directories = ['Cat','Dog']\n",
    "path = \"/home/ashwinhprasad/Documents/code/python/AI/kaggle/kagglecatsanddogs_3367a/PetImages\"\n",
    "images = []\n",
    "labels = []\n",
    "for classes in directories:\n",
    "    path = os.path.join(path,classes)\n",
    "    for file in os.listdir(path):\n",
    "        try:\n",
    "            image = cv2.imread(os.path.join(path,file))\n",
    "            image = cv2.cvtColor(image,cv2.COLOR_BGR2RGB)\n",
    "            image = cv2.resize(image,(50,50))\n",
    "            images.append(image)\n",
    "            labels.append(directories.index(classes))\n",
    "        except:\n",
    "            pass\n",
    "    path = \"/home/ashwinhprasad/Documents/code/python/AI/kaggle/kagglecatsanddogs_3367a/PetImages\""
   ]
  },
  {
   "cell_type": "code",
   "execution_count": 85,
   "metadata": {},
   "outputs": [],
   "source": [
    "images = np.array(images)\n",
    "labels = np.array(labels)"
   ]
  },
  {
   "cell_type": "code",
   "execution_count": 87,
   "metadata": {},
   "outputs": [],
   "source": [
    "np.save(\"dogsvscats.npy\",images)\n",
    "np.save(\"targets.npy\",labels)"
   ]
  }
 ],
 "metadata": {
  "kernelspec": {
   "display_name": "Python 3",
   "language": "python",
   "name": "python3"
  },
  "language_info": {
   "codemirror_mode": {
    "name": "ipython",
    "version": 3
   },
   "file_extension": ".py",
   "mimetype": "text/x-python",
   "name": "python",
   "nbconvert_exporter": "python",
   "pygments_lexer": "ipython3",
   "version": "3.8.3"
  }
 },
 "nbformat": 4,
 "nbformat_minor": 4
}
